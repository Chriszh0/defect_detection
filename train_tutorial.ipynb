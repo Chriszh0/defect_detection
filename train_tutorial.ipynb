{
 "cells": [
  {
   "cell_type": "markdown",
   "metadata": {},
   "source": [
    "# 零件白斑缺陷检测系统 - 训练\n",
    "\n"
   ]
  },
  {
   "cell_type": "markdown",
   "metadata": {},
   "source": [
    "## 1. 环境准备\n",
    "\n",
    "首先导入必要的库："
   ]
  },
  {
   "cell_type": "code",
   "execution_count": null,
   "metadata": {},
   "outputs": [],
   "source": [
    "from ultralytics import YOLO\n",
    "import yaml\n",
    "from pathlib import Path\n",
    "import os\n",
    "import matplotlib.pyplot as plt\n",
    "import torch\n",
    "import sys"
   ]
  },
  {
   "cell_type": "markdown",
   "metadata": {},
   "source": [
    "## 2. 设置工作目录"
   ]
  },
  {
   "cell_type": "code",
   "execution_count": null,
   "metadata": {},
   "outputs": [],
   "source": [
    "# 设置项目根目录\n",
    "project_root = Path(\"D:\\\\Program\\\\defect_detection\")\n",
    "os.chdir(project_root)\n",
    "print(f\"当前工作目录: {os.getcwd()}\")"
   ]
  },
  {
   "cell_type": "markdown",
   "metadata": {},
   "source": [
    "## 3. 检查GPU可用性"
   ]
  },
  {
   "cell_type": "code",
   "execution_count": null,
   "metadata": {},
   "outputs": [],
   "source": [
    "print(f\"CUDA是否可用: {torch.cuda.is_available()}\")\n",
    "if torch.cuda.is_available():\n",
    "    print(f\"GPU型号: {torch.cuda.get_device_name(0)}\")\n",
    "    print(f\"可用GPU数量: {torch.cuda.device_count()}\")"
   ]
  },
  {
   "cell_type": "markdown",
   "metadata": {},
   "source": [
    "## 4. 加载配置文件"
   ]
  },
  {
   "cell_type": "code",
   "execution_count": null,
   "metadata": {},
   "outputs": [],
   "source": [
    "# 加载训练配置\n",
    "config_path = project_root / 'configs' / 'config.yaml'\n",
    "with open(config_path, 'r', encoding='utf-8') as f:\n",
    "    cfg = yaml.safe_load(f)\n",
    "\n",
    "print(\"训练配置信息:\")\n",
    "print(f\"epochs: {cfg['train']['epochs']}\")\n",
    "print(f\"batch_size: {cfg['train']['batch_size']}\")\n",
    "print(f\"image_size: {cfg['train']['img_size']}\")"
   ]
  },
  {
   "cell_type": "markdown",
   "metadata": {},
   "source": [
    "## 5. 数据集检查"
   ]
  },
  {
   "cell_type": "code",
   "execution_count": null,
   "metadata": {},
   "outputs": [],
   "source": [
    "# 检查数据集配置\n",
    "data_yaml_path = project_root / 'configs' / 'data.yaml'\n",
    "with open(data_yaml_path, 'r', encoding='utf-8') as f:\n",
    "    data_cfg = yaml.safe_load(f)\n",
    "\n",
    "print(\"数据集配置信息:\")\n",
    "print(f\"训练集路径: {data_cfg.get('train', '未指定')}\")\n",
    "print(f\"验证集路径: {data_cfg.get('val', '未指定')}\")\n",
    "print(f\"类别数量: {len(data_cfg.get('names', []))}\")\n",
    "print(f\"类别名称: {data_cfg.get('names', [])}\")"
   ]
  },
  {
   "cell_type": "markdown",
   "metadata": {},
   "source": [
    "## 6. 选择预训练模型\n",
    "\n",
    "可选模型：\n",
    "- yolov5su.pt: 标准版（推荐）\n",
    "- yolov5mu.pt: 中等版本\n",
    "- yolo11n.pt: 轻量版本"
   ]
  },
  {
   "cell_type": "code",
   "execution_count": null,
   "metadata": {},
   "outputs": [],
   "source": [
    "# 选择预训练模型\n",
    "model_path = project_root / 'yolov5su.pt'\n",
    "model = YOLO(str(model_path))\n",
    "print(f\"已加载模型: {model}\")"
   ]
  },
  {
   "cell_type": "markdown",
   "metadata": {},
   "source": [
    "## 7. 开始训练"
   ]
  },
  {
   "cell_type": "code",
   "execution_count": null,
   "metadata": {},
   "outputs": [],
   "source": [
    "# 开始训练\n",
    "results = model.train(\n",
    "    data=str(data_yaml_path),\n",
    "    epochs=cfg['train']['epochs'],\n",
    "    batch=cfg['train']['batch_size'],\n",
    "    imgsz=cfg['train']['img_size'],\n",
    "    device=0 if torch.cuda.is_available() else 'cpu',\n",
    "    pretrained=True,\n",
    "    resume=False,\n",
    "    plots=True,  # 生成训练过程图表\n",
    "    save=True,   # 保存训练结果\n",
    "    save_period=10  # 每10个epoch保存一次\n",
    ")"
   ]
  },
  {
   "cell_type": "markdown",
   "metadata": {},
   "source": [
    "## 8. 查看训练结果"
   ]
  },
  {
   "cell_type": "code",
   "execution_count": null,
   "metadata": {},
   "outputs": [],
   "source": [
    "# 显示训练结果\n",
    "print(\"\\n训练完成！\")\n",
    "print(f\"最佳模型保存在: {model.best}\")\n",
    "\n",
    "# 如果有results对象，显示训练指标\n",
    "if results is not None:\n",
    "    print(\"\\n训练指标:\")\n",
    "    print(f\"最佳mAP: {results.maps}\")\n",
    "    print(f\"最终损失: {results.results_dict['train/box_loss'][-1]}\")\n",
    "    \n",
    "    # 显示训练曲线\n",
    "    results_file = Path('runs/train/results.csv')\n",
    "    if results_file.exists():\n",
    "        import pandas as pd\n",
    "        results_df = pd.read_csv(results_file)\n",
    "        \n",
    "        plt.figure(figsize=(12, 4))\n",
    "        plt.subplot(1, 2, 1)\n",
    "        plt.plot(results_df['epoch'], results_df['train/box_loss'], label='训练损失')\n",
    "        plt.xlabel('Epoch')\n",
    "        plt.ylabel('Loss')\n",
    "        plt.title('训练损失曲线')\n",
    "        plt.legend()\n",
    "        \n",
    "        plt.subplot(1, 2, 2)\n",
    "        plt.plot(results_df['epoch'], results_df['metrics/mAP50(B)'], label='mAP@0.5')\n",
    "        plt.xlabel('Epoch')\n",
    "        plt.ylabel('mAP')\n",
    "        plt.title('mAP曲线')\n",
    "        plt.legend()\n",
    "        \n",
    "        plt.tight_layout()\n",
    "        plt.show()"
   ]
  },
  {
   "cell_type": "markdown",
   "metadata": {},
   "source": [
    "## 9. 验证模型"
   ]
  },
  {
   "cell_type": "code",
   "execution_count": null,
   "metadata": {},
   "outputs": [],
   "source": [
    "# 加载训练好的最佳模型进行验证\n",
    "trained_model = YOLO(model.best)\n",
    "validation_results = trained_model.val(\n",
    "    data=str(data_yaml_path),\n",
    "    split='val'\n",
    ")\n",
    "\n",
    "print(\"\\n验证结果:\")\n",
    "print(f\"验证集mAP@0.5: {validation_results.box.map50}\")\n",
    "print(f\"验证集mAP@0.5:0.95: {validation_results.box.map}\")"
   ]
  },
  {
   "cell_type": "markdown",
   "metadata": {},
   "source": [
    "## 10. 模型导出（可选）"
   ]
  },
  {
   "cell_type": "code",
   "execution_count": null,
   "metadata": {},
   "outputs": [],
   "source": [
    "# 导出模型为ONNX格式（可选）\n",
    "export_path = project_root / 'models' / 'best_model.onnx'\n",
    "trained_model.export(format='onnx', imgsz=cfg['train']['img_size'])\n",
    "print(f\"模型已导出到: {export_path}\")"
   ]
  }
 ],
 "metadata": {
  "kernelspec": {
   "display_name": "yolov5",
   "language": "python",
   "name": "python3"
  },
  "language_info": {
   "codemirror_mode": {
    "name": "ipython",
    "version": 3
   },
   "file_extension": ".py",
   "mimetype": "text/x-python",
   "name": "python",
   "nbconvert_exporter": "python",
   "pygments_lexer": "ipython3",
   "version": "3.8.20"
  }
 },
 "nbformat": 4,
 "nbformat_minor": 4
}
