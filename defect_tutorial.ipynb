{
 "cells": [
  {
   "cell_type": "markdown",
   "metadata": {},
   "source": [
    "# 零件白斑缺陷检测系统使用教程\n",
    "\n",
    "本教程将指导您如何使用优化后的零件白斑缺陷检测系统进行图像检测和实时摄像头检测。"
   ]
  },
  {
   "cell_type": "markdown",
   "metadata": {},
   "source": [
    "## 1. 环境准备\n",
    "\n",
    "首先导入必要的库并设置工作目录："
   ]
  },
  {
   "cell_type": "code",
   "execution_count": null,
   "metadata": {},
   "outputs": [],
   "source": [
    "import cv2\n",
    "import numpy as np\n",
    "from IPython.display import Image, display\n",
    "import os\n",
    "import yaml\n",
    "from detect import detect_defects_yolo, run_live_detection\n",
    "\n",
    "# 设置项目根目录\n",
    "ROOT_DIR = 'D:\\\\Program\\\\defect_detection'\n",
    "\n",
    "# 创建结果目录\n",
    "os.makedirs(os.path.join(ROOT_DIR, 'results'), exist_ok=True)\n",
    "\n",
    "# 加载配置文件\n",
    "def load_config():\n",
    "    config_path = os.path.join(ROOT_DIR, 'configs', 'config.yaml')\n",
    "    with open(config_path, 'r', encoding='utf-8') as f:\n",
    "        return yaml.safe_load(f)\n",
    "\n",
    "# 全局配置\n",
    "CONFIG = load_config()"
   ]
  },
  {
   "cell_type": "markdown",
   "metadata": {},
   "source": [
    "## 2. 单张图片检测\n",
    "\n",
    "我们可以使用训练好的模型对单张图片进行缺陷检测。首先检查所需文件是否存在："
   ]
  },
  {
   "cell_type": "code",
   "execution_count": null,
   "metadata": {},
   "outputs": [],
   "source": [
    "def check_files_exist(image_path, weights_path):\n",
    "    \"\"\"检查必要文件是否存在\n",
    "    \n",
    "    Args:\n",
    "        image_path: 图像路径\n",
    "        weights_path: 模型权重路径\n",
    "    Returns:\n",
    "        bool: 是否所有文件都存在\n",
    "    \"\"\"\n",
    "    if not os.path.exists(image_path):\n",
    "        print(f\"错误：找不到测试图片: {image_path}\")\n",
    "        validation_dir = os.path.dirname(image_path)\n",
    "        if os.path.exists(validation_dir):\n",
    "            print(\"\\n可用的验证集图片:\")\n",
    "            for f in os.listdir(validation_dir)[:5]:\n",
    "                print(f\"- {f}\")\n",
    "        return False\n",
    "        \n",
    "    if not os.path.exists(weights_path):\n",
    "        print(f\"错误：找不到模型权重: {weights_path}\")\n",
    "        for pt_file in os.listdir(ROOT_DIR):\n",
    "            if pt_file.endswith('.pt'):\n",
    "                print(f\"找到可用的权重文件: {pt_file}\")\n",
    "                return False\n",
    "    return True\n",
    "\n",
    "# 设置路径\n",
    "image_path = os.path.join(ROOT_DIR, 'data', 'NEU-DET', 'validation', 'images', 'patches_241.jpg')\n",
    "weights_path = os.path.join(ROOT_DIR, 'runs', 'detect', 'train2', 'weights', 'best.pt')\n",
    "save_path = os.path.join(ROOT_DIR, 'results', 'demo_result.jpg')\n",
    "\n",
    "if check_files_exist(image_path, weights_path):\n",
    "    # 运行检测\n",
    "    result = detect_defects_yolo(\n",
    "        image_path=image_path,\n",
    "        model_path=weights_path,\n",
    "        conf_thres=CONFIG['detect']['conf_thres'],\n",
    "        save_path=save_path\n",
    "    )\n",
    "    \n",
    "    # 显示结果\n",
    "    if os.path.exists(save_path):\n",
    "        display(Image(filename=save_path))\n",
    "    else:\n",
    "        print(f\"错误：结果图片未生成: {save_path}\")"
   ]
  },
  {
   "cell_type": "markdown",
   "metadata": {},
   "source": [
    "## 3. 批量图片检测\n",
    "\n",
    "我们可以对文件夹中的多张图片进行批量检测："
   ]
  },
  {
   "cell_type": "code",
   "execution_count": null,
   "metadata": {},
   "outputs": [],
   "source": [
    "def batch_detect(input_dir, output_dir, weights_path, conf_thres=None):\n",
    "    \"\"\"批量检测文件夹中的图片\n",
    "    \n",
    "    Args:\n",
    "        input_dir: 输入图片目录\n",
    "        output_dir: 输出结果目录\n",
    "        weights_path: 模型权重路径\n",
    "        conf_thres: 置信度阈值，如果为None则使用配置文件中的值\n",
    "    \"\"\"\n",
    "    if not os.path.exists(input_dir):\n",
    "        print(f\"错误：输入目录不存在: {input_dir}\")\n",
    "        return\n",
    "        \n",
    "    os.makedirs(output_dir, exist_ok=True)\n",
    "    \n",
    "    image_files = [f for f in os.listdir(input_dir) \n",
    "                   if f.lower().endswith(('.jpg', '.jpeg', '.png'))]\n",
    "    \n",
    "    if not image_files:\n",
    "        print(f\"警告：在 {input_dir} 中没有找到图片文件\")\n",
    "        return\n",
    "        \n",
    "    print(f\"找到 {len(image_files)} 个图片文件\")\n",
    "    \n",
    "    # 使用配置文件中的置信度阈值\n",
    "    if conf_thres is None:\n",
    "        conf_thres = CONFIG['detect']['conf_thres']\n",
    "    \n",
    "    for image_file in image_files:\n",
    "        input_path = os.path.join(input_dir, image_file)\n",
    "        output_path = os.path.join(output_dir, f\"result_{image_file}\")\n",
    "        \n",
    "        try:\n",
    "            detect_defects_yolo(\n",
    "                image_path=input_path,\n",
    "                model_path=weights_path,\n",
    "                conf_thres=conf_thres,\n",
    "                save_path=output_path\n",
    "            )\n",
    "            print(f'处理完成: {image_file}')\n",
    "        except Exception as e:\n",
    "            print(f'处理 {image_file} 时出错: {str(e)}')\n",
    "\n",
    "input_dir = os.path.join(ROOT_DIR, 'data', 'NEU-DET', 'validation', 'images')\n",
    "output_dir = os.path.join(ROOT_DIR, 'results', 'batch_results')\n",
    "\n",
    "if os.path.exists(weights_path):\n",
    "    batch_detect(input_dir, output_dir, weights_path)"
   ]
  },
  {
   "cell_type": "markdown",
   "metadata": {},
   "source": [
    "## 4. 实时摄像头检测\n",
    "\n",
    "如果您的电脑有摄像头，可以进行实时检测："
   ]
  },
  {
   "cell_type": "code",
   "execution_count": null,
   "metadata": {},
   "outputs": [],
   "source": [
    "def start_live_detection(weights_path=None, save_dir=None):\n",
    "    \"\"\"启动实时摄像头检测\n",
    "    \n",
    "    Args:\n",
    "        weights_path: 模型权重路径，如果为None则使用默认路径\n",
    "        save_dir: 保存视频的目录，如果为None则不保存\n",
    "    \"\"\"\n",
    "    if weights_path is None:\n",
    "        weights_path = os.path.join(ROOT_DIR, 'models', 'best.pt')\n",
    "        \n",
    "    if not os.path.exists(weights_path):\n",
    "        print(f\"错误：找不到模型权重: {weights_path}\")\n",
    "        return\n",
    "        \n",
    "    try:\n",
    "        run_live_detection(weights=weights_path, save_dir=save_dir)\n",
    "    except Exception as e:\n",
    "        print(f\"启动实时检测时出错: {str(e)}\")\n",
    "\n",
    "# 使用示例\n",
    "save_dir = os.path.join(ROOT_DIR, 'results', 'live_detection')\n",
    "start_live_detection(weights_path=weights_path, save_dir=save_dir)"
   ]
  }
 ],
 "metadata": {
  "kernelspec": {
   "display_name": "yolov5",
   "language": "python",
   "name": "python3"
  },
  "language_info": {
   "codemirror_mode": {
    "name": "ipython",
    "version": 3
   },
   "file_extension": ".py",
   "mimetype": "text/x-python",
   "name": "python",
   "nbconvert_exporter": "python",
   "pygments_lexer": "ipython3",
   "version": "3.8.20"
  }
 },
 "nbformat": 4,
 "nbformat_minor": 2
}
